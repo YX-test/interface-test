{
 "cells": [
  {
   "cell_type": "markdown",
   "metadata": {},
   "source": [
    "# day31"
   ]
  },
  {
   "cell_type": "markdown",
   "metadata": {},
   "source": [
    "## 一、session鉴权的处理"
   ]
  },
  {
   "cell_type": "markdown",
   "metadata": {},
   "source": [
    "## 1. requests的会话对象\n",
    "会话对象可以跨请求保持某些参数。在同一个session实例发出的所有请求之间保持cookie."
   ]
  },
  {
   "cell_type": "code",
   "execution_count": 5,
   "metadata": {},
   "outputs": [],
   "source": [
    "# 1.登录课堂派\n",
    "import requests\n",
    "# 实例化一个会话对象\n",
    "s = requests.session()"
   ]
  },
  {
   "cell_type": "code",
   "execution_count": 6,
   "metadata": {},
   "outputs": [],
   "source": [
    "login_url = 'https://v4.ketangpai.com/UserApi/login'\n",
    "data = {\"email\":\"877649301@qq.com\",\"password\":\"Pythonxinlan\",\"remember\":0}"
   ]
  },
  {
   "cell_type": "code",
   "execution_count": 7,
   "metadata": {},
   "outputs": [
    {
     "data": {
      "text/plain": [
       "'{\"status\":1,\"url\":\"\\\\/Main\\\\/index.html\",\"token\":\"MDAwMDAwMDAwMMurrpWavLehhs1-lbO5hZWEzYfcepuomcWmmqaMiHtnr5ypzYWosKKZq6HQxtOK0ZCme5p-haiZu2yrn4uNhJ3KedDYk7ivboS4jt2zqY2WhN173YCKYW0\",\"isenterprise\":0,\"uid\":\"MDAwMDAwMDAwMLSGz96Iqb9phLVyoQ\"}'"
      ]
     },
     "execution_count": 7,
     "metadata": {},
     "output_type": "execute_result"
    }
   ],
   "source": [
    "# 登录\n",
    "res = s.post(url=login_url, data=data)\n",
    "res.text"
   ]
  },
  {
   "cell_type": "code",
   "execution_count": 8,
   "metadata": {},
   "outputs": [
    {
     "data": {
      "text/plain": [
       "<RequestsCookieJar[Cookie(version=0, name='PHPSESSID', value='4105ktk2e0h96et1c88h23tk20', port=None, port_specified=False, domain='v4.ketangpai.com', domain_specified=False, domain_initial_dot=False, path='/', path_specified=True, secure=True, expires=None, discard=True, comment=None, comment_url=None, rest={'HttpOnly': None}, rfc2109=False), Cookie(version=0, name='ketangpai_home_remember', value='think%3A%7B%22username%22%3A%22MDAwMDAwMDAwMLV2x5eHz7dthN523LWtftmC0IDak4NubQ%22%2C%22expire%22%3A%22MDAwMDAwMDAwMLOGvd2Iqbtthd5-3bO2dZ4%22%2C%22token%22%3A%22MDAwMDAwMDAwMMurrpWavLehhs1-lbO5hZWEzYfcepuomcWmmqaMiHtnr5ypzYWosKKZq6HQxtOK0ZCme5p-q6iZu2yrn4uNhJ3KedDYk7ivboS4jt2zqY2WhN173YCKYW0%22%2C%22sign%22%3A%223d581a3dab7cbd87cb1e84987e7a14df%22%7D', port=None, port_specified=False, domain='v4.ketangpai.com', domain_specified=False, domain_initial_dot=False, path='/', path_specified=True, secure=True, expires=1628608029, discard=False, comment=None, comment_url=None, rest={'httponly': None}, rfc2109=False), Cookie(version=0, name='ketangpai_home_slb', value='3fbda3fc94d5d1be63720d9c156288d0', port=None, port_specified=False, domain='v4.ketangpai.com', domain_specified=False, domain_initial_dot=False, path='/', path_specified=True, secure=True, expires=None, discard=True, comment=None, comment_url=None, rest={'httponly': None}, rfc2109=False)]>"
      ]
     },
     "execution_count": 8,
     "metadata": {},
     "output_type": "execute_result"
    }
   ],
   "source": [
    "res.cookies"
   ]
  },
  {
   "cell_type": "code",
   "execution_count": 10,
   "metadata": {
    "tags": []
   },
   "outputs": [
    {
     "data": {
      "text/plain": [
       "{'status': 1,\n",
       " 'toplists': [{'id': 'MDAwMDAwMDAwMLOGrd6IubtrhaVyoQ',\n",
       "   'issys': '0',\n",
       "   'coursename': 'py测开9期考试专用',\n",
       "   'code': '932SDL',\n",
       "   'stopcode': '1',\n",
       "   'classname': '',\n",
       "   'semester': '2021-2022',\n",
       "   'term': '1',\n",
       "   'username': '柠檬班-星星',\n",
       "   'avatar': 'http://img.ketangpai.com/ketangpai.aliapp.com/1/webroot/Uploads/Download/2018-04-11/1523411221.jpg%40%2162-62?OSSAccessKeyId=LTAItfPkNIKJFibY&Expires=1943957281&Signature=kjtm72cYIqza%2FXh%2B8gQRpgiEJsI%3D',\n",
       "   'minpic': '//assets.ketangpai.com/theme/min/08.jpg',\n",
       "   'middlepic': '//assets.ketangpai.com/theme/middle/08.jpg',\n",
       "   'bannercolor': '#318eeb',\n",
       "   'studentbgpic': '//assets.ketangpai.com/theme/student/big/08.png',\n",
       "   'studentminpic': '//assets.ketangpai.com/theme/student/min/08.png',\n",
       "   'teacherbgpic': '//assets.ketangpai.com/theme/teacher/big/08.png',\n",
       "   'teacherminpic': '//assets.ketangpai.com/theme/teacher/min/08.png',\n",
       "   'owner': False,\n",
       "   'total': '5',\n",
       "   'hlist': [],\n",
       "   'role': 1,\n",
       "   'packageUrl': 'https://package.ketangpai.com/Package/packageCourseView/courseid/MDAwMDAwMDAwMLOGrd6IubtrhaVyoQ/uid/MDAwMDAwMDAwMLSGz96Iqb9phLVyoQ.html',\n",
       "   'bgcolor': 'bgclass2',\n",
       "   'inviteclass': 'course-invite-color-2',\n",
       "   'tclass': 'tclass-2',\n",
       "   'students': [{'username': 'HM',\n",
       "     'uid': 'MDAwMDAwMDAwMLSstZiHqadphctyoQ',\n",
       "     'avatar': 'http://img.ketangpai.com/ketangpai.aliapp.com/1/webroot/Uploads/Download/2021-08-03/1627990656.jpg%40%2162-62?OSSAccessKeyId=LTAItfPkNIKJFibY&Expires=1943946789&Signature=Saz1JLWfWtvKL3NldOBqSt6LvcM%3D'},\n",
       "    {'username': 'Carry on',\n",
       "     'uid': 'MDAwMDAwMDAwMLOstZSHqbdshLVyoQ',\n",
       "     'avatar': 'http://v4.ketangpai.com/Public/Common/img/40/23.png'},\n",
       "    {'username': '不二',\n",
       "     'uid': 'MDAwMDAwMDAwMLOsuZaH37NrhLVyoQ',\n",
       "     'avatar': 'http://img.ketangpai.com/ketangpai.aliapp.com/1/webroot/Uploads/Download/2021-06-09/1623204710.jpg%40%2162-62?OSSAccessKeyId=LTAItfPkNIKJFibY&Expires=1943946789&Signature=HAQ705SjdfxzGAtTGDVJ4%2BG9SL4%3D'}],\n",
       "   'withScreenState': 0,\n",
       "   'liveState': 0,\n",
       "   'isattest': False},\n",
       "  {'id': 'MDAwMDAwMDAwMLOGrd6Hz7ewhaVyoQ',\n",
       "   'issys': '0',\n",
       "   'coursename': 'python测试开发9期',\n",
       "   'code': 'VV2JL7',\n",
       "   'stopcode': '1',\n",
       "   'classname': '',\n",
       "   'semester': '2021-2022',\n",
       "   'term': '1',\n",
       "   'username': '柠檬班-星星',\n",
       "   'avatar': 'http://img.ketangpai.com/ketangpai.aliapp.com/1/webroot/Uploads/Download/2018-04-11/1523411221.jpg%40%2162-62?OSSAccessKeyId=LTAItfPkNIKJFibY&Expires=1943957281&Signature=kjtm72cYIqza%2FXh%2B8gQRpgiEJsI%3D',\n",
       "   'minpic': '//assets.ketangpai.com/theme/min/27.jpg',\n",
       "   'middlepic': '//assets.ketangpai.com/theme/middle/27.jpg',\n",
       "   'bannercolor': '#318eeb',\n",
       "   'studentbgpic': '//assets.ketangpai.com/theme/student/big/27.png',\n",
       "   'studentminpic': '//assets.ketangpai.com/theme/student/min/27.png',\n",
       "   'teacherbgpic': '//assets.ketangpai.com/theme/teacher/big/27.png',\n",
       "   'teacherminpic': '//assets.ketangpai.com/theme/teacher/min/27.png',\n",
       "   'owner': False,\n",
       "   'total': '76',\n",
       "   'hlist': [{'id': 'MDAwMDAwMDAwMLOcqZiHuatthKVyoQ',\n",
       "     'title': '推导式的练习',\n",
       "     'type': '0'},\n",
       "    {'id': 'MDAwMDAwMDAwMLOcqZiHqcmyhrVyoQ',\n",
       "     'title': '编程思维强化  ',\n",
       "     'type': '0'}],\n",
       "   'role': 1,\n",
       "   'packageUrl': 'https://package.ketangpai.com/Package/packageCourseView/courseid/MDAwMDAwMDAwMLOGrd6Hz7ewhaVyoQ/uid/MDAwMDAwMDAwMLSGz96Iqb9phLVyoQ.html',\n",
       "   'bgcolor': 'bgclass1',\n",
       "   'inviteclass': 'course-invite-color-1',\n",
       "   'tclass': 'tclass-1',\n",
       "   'students': [{'username': 'Tony',\n",
       "     'uid': 'MDAwMDAwMDAwMLSsudyGz81qhLVyoQ',\n",
       "     'avatar': 'http://v4.ketangpai.com/Public/Common/img/40/26.png'},\n",
       "    {'username': '猫猫',\n",
       "     'uid': 'MDAwMDAwMDAwMLOcqZWH36-whNtyoQ',\n",
       "     'avatar': 'http://thirdwx.qlogo.cn/mmopen/vi_32/Q0j4TwGTfTI91mZrjvghO89OGFa3I49XDgUhRFCNtqnMh3dprWsEtKCEgag7CNESTibV2mibB2aCeTW4Qg9Tib4aw/132'},\n",
       "    {'username': '扈嘉伟',\n",
       "     'uid': 'MDAwMDAwMDAwMLSGx5aIubtrhLVyoQ',\n",
       "     'avatar': 'http://thirdwx.qlogo.cn/mmopen/vi_32/Z85UTwgTM1Dsloyptwzw9zTIglgxqElXqPLTaG4YhfgZ8hBNp7Sib873vRiaARUvZwic8O2KuIsN2aDyfNjmqaf1g/132'}],\n",
       "   'withScreenState': 0,\n",
       "   'liveState': 0,\n",
       "   'isattest': False},\n",
       "  {'id': 'MDAwMDAwMDAwMLOGrdyGqc2yhdtyoQ',\n",
       "   'issys': '0',\n",
       "   'coursename': 'python第41期',\n",
       "   'code': '82P8MR',\n",
       "   'stopcode': '0',\n",
       "   'classname': '',\n",
       "   'semester': '2021-2022',\n",
       "   'term': '1',\n",
       "   'username': '乔木',\n",
       "   'avatar': 'http://v4.ketangpai.com/Public/Common/img/40/28.png',\n",
       "   'minpic': '//assets.ketangpai.com/theme/min/27.jpg',\n",
       "   'middlepic': '//assets.ketangpai.com/theme/middle/27.jpg',\n",
       "   'bannercolor': '#318eeb',\n",
       "   'studentbgpic': '//assets.ketangpai.com/theme/student/big/27.png',\n",
       "   'studentminpic': '//assets.ketangpai.com/theme/student/min/27.png',\n",
       "   'teacherbgpic': '//assets.ketangpai.com/theme/teacher/big/27.png',\n",
       "   'teacherminpic': '//assets.ketangpai.com/theme/teacher/min/27.png',\n",
       "   'owner': False,\n",
       "   'total': '126',\n",
       "   'hlist': [{'id': 'MDAwMDAwMDAwMLOcqZiHuatshrVyoQ',\n",
       "     'title': 'day30_v3版本鉴权与多表校验',\n",
       "     'type': '0'},\n",
       "    {'id': 'MDAwMDAwMDAwMLOcqZiHqclohLVyoQ',\n",
       "     'title': 'day29_业务流方案二',\n",
       "     'type': '0'}],\n",
       "   'role': 1,\n",
       "   'packageUrl': 'https://package.ketangpai.com/Package/packageCourseView/courseid/MDAwMDAwMDAwMLOGrdyGqc2yhdtyoQ/uid/MDAwMDAwMDAwMLSGz96Iqb9phLVyoQ.html',\n",
       "   'bgcolor': 'bgclass0',\n",
       "   'inviteclass': 'course-invite-color-0',\n",
       "   'tclass': 'tclass-0',\n",
       "   'students': [{'username': '厦门-小鱼',\n",
       "     'uid': 'MDAwMDAwMDAwMLOsud6GucmwhbVyoQ',\n",
       "     'avatar': 'http://v4.ketangpai.com/Public/Common/img/40/31.png'},\n",
       "    {'username': 'null',\n",
       "     'uid': 'MDAwMDAwMDAwMLSstZeHubdrhNtyoQ',\n",
       "     'avatar': 'http://v4.ketangpai.com/Public/Common/img/40/26.png'},\n",
       "    {'username': '畅畅',\n",
       "     'uid': 'MDAwMDAwMDAwMLOcy5iGua-vhKVyoQ',\n",
       "     'avatar': 'http://img.ketangpai.com/ketangpai.aliapp.com/1/webroot/Uploads/Download/2019-04-26/1556241988.jpg%40%2162-62?OSSAccessKeyId=LTAItfPkNIKJFibY&Expires=1943945345&Signature=zi%2FRHAT3VzLzbtgERUQCfJNVFK4%3D'}],\n",
       "   'withScreenState': 0,\n",
       "   'liveState': 0,\n",
       "   'isattest': False},\n",
       "  {'id': 'MDAwMDAwMDAwMLOGrduHqbexhdtyoQ',\n",
       "   'issys': '0',\n",
       "   'coursename': 'python测开8期考试',\n",
       "   'code': '9T2PX8',\n",
       "   'stopcode': '0',\n",
       "   'classname': '',\n",
       "   'semester': '2021-2022',\n",
       "   'term': '1',\n",
       "   'username': '柠檬班-揽揽',\n",
       "   'avatar': 'http://v4.ketangpai.com/Public/Common/img/40/26.png',\n",
       "   'minpic': '//assets.ketangpai.com/theme/min/07.jpg',\n",
       "   'middlepic': '//assets.ketangpai.com/theme/middle/07.jpg',\n",
       "   'bannercolor': '#318eeb',\n",
       "   'studentbgpic': '//assets.ketangpai.com/theme/student/big/07.png',\n",
       "   'studentminpic': '//assets.ketangpai.com/theme/student/min/07.png',\n",
       "   'teacherbgpic': '//assets.ketangpai.com/theme/teacher/big/07.png',\n",
       "   'teacherminpic': '//assets.ketangpai.com/theme/teacher/min/07.png',\n",
       "   'owner': False,\n",
       "   'total': '3',\n",
       "   'hlist': [],\n",
       "   'role': 1,\n",
       "   'packageUrl': 'https://package.ketangpai.com/Package/packageCourseView/courseid/MDAwMDAwMDAwMLOGrduHqbexhdtyoQ/uid/MDAwMDAwMDAwMLSGz96Iqb9phLVyoQ.html',\n",
       "   'bgcolor': 'bgclass5',\n",
       "   'inviteclass': 'course-invite-color-5',\n",
       "   'tclass': 'tclass-5',\n",
       "   'students': [{'username': '雷鸣',\n",
       "     'uid': 'MDAwMDAwMDAwMLScz5iGz9GwhqVyoQ',\n",
       "     'avatar': 'http://v4.ketangpai.com/Public/Common/img/40/27.png'},\n",
       "    {'username': '达达',\n",
       "     'uid': 'MDAwMDAwMDAwMLScx92GqbNthKVyoQ',\n",
       "     'avatar': 'http://v4.ketangpai.com/Public/Common/img/40/35.png'},\n",
       "    {'username': '飞扬',\n",
       "     'uid': 'MDAwMDAwMDAwMLScpZWH38lshctyoQ',\n",
       "     'avatar': 'http://v4.ketangpai.com/Public/Common/img/40/40.png'}],\n",
       "   'withScreenState': 0,\n",
       "   'liveState': 0,\n",
       "   'isattest': False},\n",
       "  {'id': 'MDAwMDAwMDAwMLOGpZaHqc1phKVyoQ',\n",
       "   'issys': '0',\n",
       "   'coursename': 'python全栈第38期',\n",
       "   'code': 'TX5CQX',\n",
       "   'stopcode': '0',\n",
       "   'classname': '',\n",
       "   'semester': '2020-2021',\n",
       "   'term': '1',\n",
       "   'username': '柠檬班-星星',\n",
       "   'avatar': 'http://img.ketangpai.com/ketangpai.aliapp.com/1/webroot/Uploads/Download/2018-04-11/1523411221.jpg%40%2162-62?OSSAccessKeyId=LTAItfPkNIKJFibY&Expires=1943957281&Signature=kjtm72cYIqza%2FXh%2B8gQRpgiEJsI%3D',\n",
       "   'minpic': '//assets.ketangpai.com/theme/min/02.jpg',\n",
       "   'middlepic': '//assets.ketangpai.com/theme/middle/02.jpg',\n",
       "   'bannercolor': '#318eeb',\n",
       "   'studentbgpic': '//assets.ketangpai.com/theme/student/big/02.png',\n",
       "   'studentminpic': '//assets.ketangpai.com/theme/student/min/02.png',\n",
       "   'teacherbgpic': '//assets.ketangpai.com/theme/teacher/big/02.png',\n",
       "   'teacherminpic': '//assets.ketangpai.com/theme/teacher/min/02.png',\n",
       "   'owner': False,\n",
       "   'total': '108',\n",
       "   'hlist': [{'id': 'MDAwMDAwMDAwMLOcqZSHz7dohdtyoQ',\n",
       "     'title': 'day46_微信小程序公众号解决方案_jenkins多设备并发解决方案',\n",
       "     'type': '0'},\n",
       "    {'id': 'MDAwMDAwMDAwMLOcqZSGqadrhKVyoQ',\n",
       "     'title': 'day45_退出功能测试_题库功能测试_混合应用测试思路和方法',\n",
       "     'type': '0'}],\n",
       "   'role': 1,\n",
       "   'packageUrl': 'https://package.ketangpai.com/Package/packageCourseView/courseid/MDAwMDAwMDAwMLOGpZaHqc1phKVyoQ/uid/MDAwMDAwMDAwMLSGz96Iqb9phLVyoQ.html',\n",
       "   'bgcolor': 'bgclass4',\n",
       "   'inviteclass': 'course-invite-color-4',\n",
       "   'tclass': 'tclass-4',\n",
       "   'students': [{'username': '达达',\n",
       "     'uid': 'MDAwMDAwMDAwMLScx92GqbNthKVyoQ',\n",
       "     'avatar': 'http://v4.ketangpai.com/Public/Common/img/40/35.png'},\n",
       "    {'username': '柠檬班-晴晴',\n",
       "     'uid': 'MDAwMDAwMDAwMLSGvd6Iqc2yhKVyoQ',\n",
       "     'avatar': 'http://img.ketangpai.com/ketangpai.aliapp.com/1/webroot/Uploads/Download/2021-01-20/1611128667.jpg%40%2162-62?OSSAccessKeyId=LTAItfPkNIKJFibY&Expires=1943955919&Signature=1IkgUQ9FDHLhJkt0UDnoSLaUV1A%3D'},\n",
       "    {'username': '璐璐',\n",
       "     'uid': 'MDAwMDAwMDAwMLSstZmGz7tohctyoQ',\n",
       "     'avatar': 'http://v4.ketangpai.com/Public/Common/img/40/40.png'}],\n",
       "   'withScreenState': 0,\n",
       "   'liveState': 0,\n",
       "   'isattest': False},\n",
       "  {'id': 'MDAwMDAwMDAwMLOGpZiGqauxhrVyoQ',\n",
       "   'issys': '0',\n",
       "   'coursename': 'web自动化测试',\n",
       "   'code': 'MJP3DM',\n",
       "   'classname': '考勤测试专用',\n",
       "   'semester': '2021-2022',\n",
       "   'term': '1',\n",
       "   'isrecruit': '0',\n",
       "   'username': '心蓝',\n",
       "   'avatar': 'http://v4.ketangpai.com/Public/Common/img/40/40.png',\n",
       "   'minpic': '//assets.ketangpai.com/theme/min/21.jpg',\n",
       "   'middlepic': '//assets.ketangpai.com/theme/middle/21.jpg',\n",
       "   'bannercolor': '#318eeb',\n",
       "   'studentbgpic': '//assets.ketangpai.com/theme/student/big/21.png',\n",
       "   'studentminpic': '//assets.ketangpai.com/theme/student/min/21.png',\n",
       "   'teacherbgpic': '//assets.ketangpai.com/theme/teacher/big/21.png',\n",
       "   'teacherminpic': '//assets.ketangpai.com/theme/teacher/min/21.png',\n",
       "   'living': 0,\n",
       "   'total': '3',\n",
       "   'hlist': [{'id': 'MDAwMDAwMDAwMLOGz92Gz7OxhbVyoQ',\n",
       "     'title': 'test',\n",
       "     'type': '0'}],\n",
       "   'role': 0,\n",
       "   'bgcolor': 'bgclass3',\n",
       "   'inviteclass': 'course-invite-color-3',\n",
       "   'tclass': 'tclass-3',\n",
       "   'students': [{'username': '小许',\n",
       "     'uid': 'MDAwMDAwMDAwMLScz5eIqbNshbVyoQ',\n",
       "     'avatar': 'http://v4.ketangpai.com/Public/Common/img/40/37.png'},\n",
       "    {'username': '赵娜',\n",
       "     'uid': 'MDAwMDAwMDAwMLScz5iGz6-whaVyoQ',\n",
       "     'avatar': 'http://v4.ketangpai.comhttp://thirdwx.qlogo.cn/mmopen/vi_32/DYAIOgq83erb4w6RFD0iaMIymewrriaAeicZ962bVFBRZyfyEsnYpzPhKV83clCLo25ibBkgfSSuxRzO3Skj8r2EdA/132'},\n",
       "    {'username': '零檬班-心蓝',\n",
       "     'uid': 'MDAwMDAwMDAwMLSGz96Iqb9phLVyoQ',\n",
       "     'avatar': 'http://v4.ketangpai.com/Public/Common/img/40/26.png'}],\n",
       "   'withScreenState': 0,\n",
       "   'liveState': 0,\n",
       "   'isattest': False},\n",
       "  {'id': 'MDAwMDAwMDAwMLSctd2H37dp',\n",
       "   'issys': '0',\n",
       "   'coursename': 'python自动化第30期',\n",
       "   'code': 'LZ5U78',\n",
       "   'stopcode': '0',\n",
       "   'classname': '30',\n",
       "   'semester': '2013-2014',\n",
       "   'term': '1',\n",
       "   'username': '柠檬班-敏敏',\n",
       "   'avatar': 'http://img.ketangpai.com/ketangpai.aliapp.com/1/webroot/Uploads/Download/2019-11-04/1572860860.jpg%40%2162-62?OSSAccessKeyId=LTAItfPkNIKJFibY&Expires=1943957281&Signature=QMOzhl834xaW7x0YIvVfcU%2FqU%2Bk%3D',\n",
       "   'minpic': '//assets.ketangpai.com/theme/min/11.jpg',\n",
       "   'middlepic': '//assets.ketangpai.com/theme/middle/11.jpg',\n",
       "   'bannercolor': '#318eeb',\n",
       "   'studentbgpic': '//assets.ketangpai.com/theme/student/big/11.png',\n",
       "   'studentminpic': '//assets.ketangpai.com/theme/student/min/11.png',\n",
       "   'teacherbgpic': '//assets.ketangpai.com/theme/teacher/big/11.png',\n",
       "   'teacherminpic': '//assets.ketangpai.com/theme/teacher/min/11.png',\n",
       "   'owner': False,\n",
       "   'total': '240',\n",
       "   'hlist': [{'id': 'MDAwMDAwMDAwMLOGuZmIqatphNtyoQ',\n",
       "     'title': '毕业实战小项目 - web自动化 - 框架应用起来！',\n",
       "     'type': '0'},\n",
       "    {'id': 'MDAwMDAwMDAwMLOGud6Gqc1ohbVyoQ',\n",
       "     'title': '2020-0914 - 使用app元素定位和操作，玩一玩手机呀！！',\n",
       "     'type': '0'}],\n",
       "   'role': 1,\n",
       "   'packageUrl': 'https://package.ketangpai.com/Package/packageCourseView/courseid/MDAwMDAwMDAwMLSctd2H37dp/uid/MDAwMDAwMDAwMLSGz96Iqb9phLVyoQ.html',\n",
       "   'bgcolor': 'bgclass2',\n",
       "   'inviteclass': 'course-invite-color-2',\n",
       "   'tclass': 'tclass-2',\n",
       "   'students': [{'username': '罗铠楠',\n",
       "     'uid': 'MDAwMDAwMDAwMLSsudyIqatthKVyoQ',\n",
       "     'avatar': 'http://v4.ketangpai.com/Public/Common/img/40/21.png'},\n",
       "    {'username': '罗铠楠',\n",
       "     'uid': 'MDAwMDAwMDAwMLSstZeIua9thdtyoQ',\n",
       "     'avatar': 'http://v4.ketangpai.com/Public/Common/img/40/27.png'},\n",
       "    {'username': '张晓航',\n",
       "     'uid': 'MDAwMDAwMDAwMLSstZmIuc2yhNtyoQ',\n",
       "     'avatar': 'http://v4.ketangpai.com/Public/Common/img/40/37.png'}],\n",
       "   'withScreenState': 0,\n",
       "   'liveState': 0,\n",
       "   'isattest': False}],\n",
       " 'lists': [{'id': 'MDAwMDAwMDAwMLSsrZWHz7-w',\n",
       "   'issys': '1',\n",
       "   'coursename': '熟悉  课堂派',\n",
       "   'code': 'MPYFZN',\n",
       "   'stopcode': '0',\n",
       "   'classname': None,\n",
       "   'semester': '2019-2020',\n",
       "   'term': '2',\n",
       "   'isrecruit': '0',\n",
       "   'username': '零檬班-心蓝',\n",
       "   'avatar': 'http://v4.ketangpai.com/Public/Common/img/40/26.png',\n",
       "   'minpic': '//assets.ketangpai.com/theme/min/18.jpg',\n",
       "   'middlepic': '//assets.ketangpai.com/theme/middle/18.jpg',\n",
       "   'bannercolor': '#318eeb',\n",
       "   'studentbgpic': '//assets.ketangpai.com/theme/student/big/18.png',\n",
       "   'studentminpic': '//assets.ketangpai.com/theme/student/min/18.png',\n",
       "   'teacherbgpic': '//assets.ketangpai.com/theme/teacher/big/18.png',\n",
       "   'teacherminpic': '//assets.ketangpai.com/theme/teacher/min/18.png',\n",
       "   'owner': True,\n",
       "   'total': '20',\n",
       "   'hlist': [{'id': 'MDAwMDAwMDAwMLOGtZeH36-vhMtyoQ',\n",
       "     'title': '范例_第一次作业',\n",
       "     'type': '0'}],\n",
       "   'role': 1,\n",
       "   'packageUrl': 'https://package.ketangpai.com/Package/packageCourseView/courseid/MDAwMDAwMDAwMLSsrZWHz7-w/uid/MDAwMDAwMDAwMLSGz96Iqb9phLVyoQ.html',\n",
       "   'bgcolor': 'bgclass1',\n",
       "   'inviteclass': 'course-invite-color-1',\n",
       "   'tclass': 'tclass-1',\n",
       "   'students': [{'username': '高斯',\n",
       "     'uid': 'MDAwMDAwMDAwMLR2uaE',\n",
       "     'avatar': 'http://v4.ketangpai.com/Public/static/soon/images/20/3.jpg'},\n",
       "    {'username': '安培\\n',\n",
       "     'uid': 'MDAwMDAwMDAwMLSGvaE',\n",
       "     'avatar': 'http://v4.ketangpai.com/Public/static/soon/images/20/3.jpg'},\n",
       "    {'username': '贝尔\\n',\n",
       "     'uid': 'MDAwMDAwMDAwMLSGx6E',\n",
       "     'avatar': 'http://v4.ketangpai.com/Public/static/soon/images/20/3.jpg'}],\n",
       "   'withScreenState': 0,\n",
       "   'liveState': 0,\n",
       "   'isattest': False},\n",
       "  {'id': 'MDAwMDAwMDAwMLSsrZmHqads',\n",
       "   'issys': '0',\n",
       "   'coursename': 'python自动化34期',\n",
       "   'code': 'J3UFFW',\n",
       "   'stopcode': '1',\n",
       "   'classname': '',\n",
       "   'semester': '2020-2021',\n",
       "   'term': '1',\n",
       "   'username': '胡杨',\n",
       "   'avatar': 'http://v4.ketangpai.com/Public/Common/img/40/21.png',\n",
       "   'minpic': '//assets.ketangpai.com/theme/min/01.jpg',\n",
       "   'middlepic': '//assets.ketangpai.com/theme/middle/01.jpg',\n",
       "   'bannercolor': '#318eeb',\n",
       "   'studentbgpic': '//assets.ketangpai.com/theme/student/big/01.png',\n",
       "   'studentminpic': '//assets.ketangpai.com/theme/student/min/01.png',\n",
       "   'teacherbgpic': '//assets.ketangpai.com/theme/teacher/big/01.png',\n",
       "   'teacherminpic': '//assets.ketangpai.com/theme/teacher/min/01.png',\n",
       "   'owner': False,\n",
       "   'total': '116',\n",
       "   'hlist': [{'id': 'MDAwMDAwMDAwMLOGz92G36tohqVyoQ',\n",
       "     'title': 'python班级入职offer福利来一波~',\n",
       "     'type': '0'},\n",
       "    {'id': 'MDAwMDAwMDAwMLOGz92GqbNrhKVyoQ',\n",
       "     'title': '毕业啦，给大家拜个早年，祝同学们2021年，牛气冲天，牛运亨通，牛股相随，牛气哄哄！',\n",
       "     'type': '0'}],\n",
       "   'role': 1,\n",
       "   'packageUrl': 'https://package.ketangpai.com/Package/packageCourseView/courseid/MDAwMDAwMDAwMLSsrZmHqads/uid/MDAwMDAwMDAwMLSGz96Iqb9phLVyoQ.html',\n",
       "   'bgcolor': 'bgclass0',\n",
       "   'inviteclass': 'course-invite-color-0',\n",
       "   'tclass': 'tclass-0',\n",
       "   'students': [{'username': '王小倩',\n",
       "     'uid': 'MDAwMDAwMDAwMLScqZiG37-vhNtyoQ',\n",
       "     'avatar': 'http://v4.ketangpai.com/Public/Common/img/40/30.png'},\n",
       "    {'username': '罗小黑',\n",
       "     'uid': 'MDAwMDAwMDAwMLOGz5SH381thqVyoQ',\n",
       "     'avatar': 'http://v4.ketangpai.com/Public/Common/img/40/32.png'},\n",
       "    {'username': '小仙女',\n",
       "     'uid': 'MDAwMDAwMDAwMLScrd6GudGxhaVyoQ',\n",
       "     'avatar': 'http://v4.ketangpai.com/Public/Common/img/40/33.png'}],\n",
       "   'withScreenState': 0,\n",
       "   'liveState': 0,\n",
       "   'isattest': False}],\n",
       " 'info': 'success',\n",
       " 'sysCount': '1',\n",
       " 'userRole': '1',\n",
       " 'isPopApprove': 0}"
      ]
     },
     "execution_count": 10,
     "metadata": {},
     "output_type": "execute_result"
    }
   ],
   "source": [
    "# 2. 查询课程信息\n",
    "courses_url = 'https://v4.ketangpai.com/CourseApi/lists'\n",
    "# 获取课程列表\n",
    "res = s.get(courses_url)\n",
    "res.json()"
   ]
  },
  {
   "cell_type": "markdown",
   "metadata": {},
   "source": [
    "## 2. 封装session鉴权的http请求函数\n",
    "\n",
    "封装思路：\n",
    "- 只需要在一个会话中使用同一个会话对象即可。\n",
    "- 给每个测试用例类创建一个会话对象。\n"
   ]
  },
  {
   "cell_type": "markdown",
   "metadata": {},
   "source": [
    "## 3. 课堂派测试案例"
   ]
  },
  {
   "cell_type": "code",
   "execution_count": null,
   "metadata": {},
   "outputs": [],
   "source": []
  },
  {
   "cell_type": "markdown",
   "metadata": {},
   "source": [
    "## 二、mock测试"
   ]
  },
  {
   "cell_type": "markdown",
   "metadata": {},
   "source": [
    "## 1. 简述\n",
    "\n",
    "挡板\n",
    "\n",
    "mock测试就是在测试过程中，对于某些不容易构成或者不容易获取的对象，用一个虚拟的对象来创建以便测试的测试方法。\n",
    "\n",
    "典型应用场景：\n",
    "1. 当某个单元测试依赖另外一个函数，而这个函数还未开发完成。那么就可以使用这个函数的mock对象来完成测试。\n",
    "2. 当某个接口依赖另外一个接口，而这个接口未开发完成，或者不方便调用(例如第三方的支付接口)，那么可以使用mock服务模拟这个依赖接口来完成。"
   ]
  },
  {
   "cell_type": "code",
   "execution_count": 11,
   "metadata": {},
   "outputs": [],
   "source": [
    "from unittest.mock import MagicMock\n",
    "a = MagicMock(return_value=3)"
   ]
  },
  {
   "cell_type": "code",
   "execution_count": 12,
   "metadata": {},
   "outputs": [
    {
     "data": {
      "text/plain": [
       "<MagicMock id='2420857818416'>"
      ]
     },
     "execution_count": 12,
     "metadata": {},
     "output_type": "execute_result"
    }
   ],
   "source": [
    "a"
   ]
  },
  {
   "cell_type": "code",
   "execution_count": 13,
   "metadata": {},
   "outputs": [
    {
     "data": {
      "text/plain": [
       "3"
      ]
     },
     "execution_count": 13,
     "metadata": {},
     "output_type": "execute_result"
    }
   ],
   "source": [
    "a(3,4,5,6,a='aaa')"
   ]
  },
  {
   "cell_type": "markdown",
   "metadata": {},
   "source": [
    "### 2. unittest.mock"
   ]
  },
  {
   "cell_type": "code",
   "execution_count": 14,
   "metadata": {},
   "outputs": [],
   "source": [
    "from unittest.mock import create_autospec"
   ]
  },
  {
   "cell_type": "code",
   "execution_count": 15,
   "metadata": {},
   "outputs": [],
   "source": [
    "# 需要被mock的函数\n",
    "def some_function(a, b, c):\n",
    "    \"\"\"\n",
    "    还未开放\n",
    "    \"\"\"\n",
    "    pass"
   ]
  },
  {
   "cell_type": "code",
   "execution_count": 22,
   "metadata": {},
   "outputs": [],
   "source": [
    "mock_function = create_autospec(some_function, return_value='成功')"
   ]
  },
  {
   "cell_type": "code",
   "execution_count": 23,
   "metadata": {},
   "outputs": [],
   "source": [
    "res = mock_function(1,2,3)"
   ]
  },
  {
   "cell_type": "code",
   "execution_count": 24,
   "metadata": {},
   "outputs": [
    {
     "data": {
      "text/plain": [
       "'成功'"
      ]
     },
     "execution_count": 24,
     "metadata": {},
     "output_type": "execute_result"
    }
   ],
   "source": [
    "res"
   ]
  },
  {
   "cell_type": "markdown",
   "metadata": {},
   "source": [
    "### 3. 实现充值接口的mock测试"
   ]
  },
  {
   "cell_type": "code",
   "execution_count": null,
   "metadata": {
    "tags": []
   },
   "outputs": [],
   "source": []
  },
  {
   "cell_type": "markdown",
   "metadata": {},
   "source": [
    "### 4. mock服务\n",
    "\n",
    "mock服务就是一个web应用程序，可以自定义接口地址，发送参数，以及响应结果，实现技术简单。"
   ]
  },
  {
   "cell_type": "code",
   "execution_count": null,
   "metadata": {},
   "outputs": [],
   "source": []
  },
  {
   "cell_type": "markdown",
   "metadata": {},
   "source": [
    "## 三、接口自动化总结"
   ]
  }
 ],
 "metadata": {
  "kernelspec": {
   "display_name": "Python 3",
   "language": "python",
   "name": "python3"
  },
  "language_info": {
   "codemirror_mode": {
    "name": "ipython",
    "version": 3
   },
   "file_extension": ".py",
   "mimetype": "text/x-python",
   "name": "python",
   "nbconvert_exporter": "python",
   "pygments_lexer": "ipython3",
   "version": "3.8.5"
  }
 },
 "nbformat": 4,
 "nbformat_minor": 4
}
